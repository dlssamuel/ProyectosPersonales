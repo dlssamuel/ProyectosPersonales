tareas = []

def ver_tareas():
    if not tareas:
        print("No hay tareas disponibles")
    else:
        for i, tarea in enumerate(tareas, start=1):
            print(f"{i}. {tarea}")

def agregar_tarea():
    nva_tarea = input("Tarea que desea agregar:").strip()
    if nva_tarea:
        tareas.append(nva_tarea)
        print("Tarea agregada correctamente")
    else:
        print("No se puede agregar una tarea vacia")

def eliminar_tarea():
    if not tareas:
        print("No hay tareas disponibles")
    
    ver_tareas()
    try:
        num = int(input("Numero de la tarea que desea eliminar:"))
        if 1 <= num <= len(tareas):
            eliminada = tareas.pop(num -1)
            print(f"Se liminó la tarea '{eliminada}'")
        else:
            print("No se encontró la tarea")
    except ValueError:
        print("Por favor ingrese solo numeros")

while True:
    print("\n--- Gestor de Tareas ---")
    print("1. Ver tareas")
    print("2. Agregar tarea")
    print("3. Eliminar tarea")
    print("4. Salir")
    
    opcion = input("Elegí una opción (1-4): ")

    if opcion == "1":
        ver_tareas()
        ...
    elif opcion == "2":
        agregar_tarea()
        ...
    elif opcion == "3":
        eliminar_tarea()
        ...
    elif opcion == "4":
        print("Saliendo del gestor de tareas...")
        break
    else:
        print("Opción no válida. Intentalo de nuevo.")
