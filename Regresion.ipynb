{
 "cells": [
  {
   "cell_type": "code",
   "execution_count": null,
   "id": "65b7f580-bc78-4501-8f57-43ee95f52983",
   "metadata": {},
   "outputs": [],
   "source": [
    "import numpy as np\n",
    "import pandas as pd\n",
    "from sklearn.model_selection import train_test_split\n",
    "from modelss import HousingPriceModel\n",
    "\n",
    "# 1. Generamos datos ficticios\n",
    "np.random.seed(42)\n",
    "n = 500\n",
    "\n",
    "df = pd.DataFrame({\n",
    "    \"metros_cuadrados\": np.random.randint(50, 200, n),\n",
    "    \"habitaciones\": np.random.randint(1, 5, n),\n",
    "    \"banos\": np.random.randint(1, 3, n),\n",
    "    \"antiguedad\": np.random.randint(0, 30, n)\n",
    "})\n",
    "\n",
    "# Creamos precios ficticios con algo de ruido\n",
    "df[\"precio\"] = (\n",
    "    df[\"metros_cuadrados\"] * 1200 +\n",
    "    df[\"habitaciones\"] * 15000 -\n",
    "    df[\"antiguedad\"] * 800 +\n",
    "    np.random.normal(0, 20000, n)\n",
    ")\n",
    "\n",
    "# 2. Variables predictoras y objetivo\n",
    "X = df.drop(columns=\"precio\")\n",
    "y = df[\"precio\"]\n",
    "\n",
    "# 3. División train/test\n",
    "X_train, X_test, y_train, y_test = train_test_split(\n",
    "    X, y, test_size=0.2, random_state=42\n",
    ")\n",
    "\n",
    "# 4. Entrenar modelo\n",
    "model = HousingPriceModel()\n",
    "model.fit(X_train, y_train)\n",
    "\n",
    "# 5. Evaluación\n",
    "metrics = model.evaluate(X_test, y_test)\n",
    "print(\"Métricas del modelo de regresión:\", metrics)\n",
    "\n",
    "# 6. Predicción de ejemplo\n",
    "print(\"Ejemplo predicción:\", model.predict([[120, 3, 2, 10]]))"
   ]
  }
 ],
 "metadata": {
  "kernelspec": {
   "display_name": "Python [conda env:base] *",
   "language": "python",
   "name": "conda-base-py"
  },
  "language_info": {
   "codemirror_mode": {
    "name": "ipython",
    "version": 3
   },
   "file_extension": ".py",
   "mimetype": "text/x-python",
   "name": "python",
   "nbconvert_exporter": "python",
   "pygments_lexer": "ipython3",
   "version": "3.12.7"
  }
 },
 "nbformat": 4,
 "nbformat_minor": 5
}
