{
 "cells": [
  {
   "cell_type": "code",
   "execution_count": null,
   "id": "4dcd6993",
   "metadata": {},
   "outputs": [],
   "source": [
    "tareas = []\n",
    "\n",
    "def ver_tareas():\n",
    "    if not tareas:\n",
    "        print(\"No hay tareas disponibles\")\n",
    "    else:\n",
    "        for i, tarea in enumerate(tareas, start=1):\n",
    "            print(f\"{i}. {tarea}\")\n",
    "\n",
    "def agregar_tarea():\n",
    "    nva_tarea = input(\"Tarea que desea agregar:\").strip()\n",
    "    if nva_tarea:\n",
    "        tareas.append(nva_tarea)\n",
    "        print(\"Tarea agregada correctamente\")\n",
    "    else:\n",
    "        print(\"No se puede agregar una tarea vacia\")\n",
    "\n",
    "def eliminar_tarea():\n",
    "    if not tareas:\n",
    "        print(\"No hay tareas disponibles\")\n",
    "    \n",
    "    ver_tareas()\n",
    "    try:\n",
    "        num = int(input(\"Numero de la tarea que desea eliminar:\"))\n",
    "        if 1 <= num <= len(tareas):\n",
    "            eliminada = tareas.pop(num -1)\n",
    "            print(f\"Se liminó la tarea '{eliminada}'\")\n",
    "        else:\n",
    "            print(\"No se encontró la tarea\")\n",
    "    except ValueError:\n",
    "        print(\"Por favor ingrese solo numeros\")\n",
    "\n",
    "while True:\n",
    "    print(\"\\n--- Gestor de Tareas ---\")\n",
    "    print(\"1. Ver tareas\")\n",
    "    print(\"2. Agregar tarea\")\n",
    "    print(\"3. Eliminar tarea\")\n",
    "    print(\"4. Salir\")\n",
    "    \n",
    "    opcion = input(\"Elegí una opción (1-4): \")\n",
    "\n",
    "    if opcion == \"1\":\n",
    "        ver_tareas()\n",
    "        ...\n",
    "    elif opcion == \"2\":\n",
    "        agregar_tarea()\n",
    "        ...\n",
    "    elif opcion == \"3\":\n",
    "        eliminar_tarea()\n",
    "        ...\n",
    "    elif opcion == \"4\":\n",
    "        print(\"Saliendo del gestor de tareas...\")\n",
    "        break\n",
    "    else:\n",
    "        print(\"Opción no válida. Intentalo de nuevo.\")"
   ]
  }
 ],
 "metadata": {
  "kernelspec": {
   "display_name": "Python [conda env:anaconda3]",
   "language": "python",
   "name": "conda-env-anaconda3-py"
  },
  "language_info": {
   "codemirror_mode": {
    "name": "ipython",
    "version": 3
   },
   "file_extension": ".py",
   "mimetype": "text/x-python",
   "name": "python",
   "nbconvert_exporter": "python",
   "pygments_lexer": "ipython3",
   "version": "3.12.7"
  }
 },
 "nbformat": 4,
 "nbformat_minor": 5
}
